{
 "cells": [
  {
   "cell_type": "code",
   "execution_count": 1,
   "id": "db8eeb50",
   "metadata": {},
   "outputs": [
    {
     "name": "stdout",
     "output_type": "stream",
     "text": [
      "3.2 <class 'float'>\n"
     ]
    }
   ],
   "source": [
    "x = 3.2\n",
    "print(x, type(x))"
   ]
  },
  {
   "cell_type": "code",
   "execution_count": 2,
   "id": "ff2f53ba",
   "metadata": {},
   "outputs": [
    {
     "data": {
      "text/plain": [
       "3"
      ]
     },
     "execution_count": 2,
     "metadata": {},
     "output_type": "execute_result"
    }
   ],
   "source": [
    "int(x) # changes float to int"
   ]
  },
  {
   "cell_type": "code",
   "execution_count": 8,
   "id": "61845648",
   "metadata": {},
   "outputs": [
    {
     "name": "stdout",
     "output_type": "stream",
     "text": [
      "30.184 <class 'float'>\n",
      "30 <class 'int'>\n"
     ]
    }
   ],
   "source": [
    "x=30.184\n",
    "print(x,type(x\n",
    "            ))\n",
    "#type casting----> changeing the value's type\n",
    "\n",
    "x = int(x)\n",
    "print(x, type(x))"
   ]
  },
  {
   "cell_type": "code",
   "execution_count": 9,
   "id": "1c4e2ca0",
   "metadata": {},
   "outputs": [
    {
     "name": "stdout",
     "output_type": "stream",
     "text": [
      "5 <class 'str'>\n",
      "5 <class 'int'>\n"
     ]
    }
   ],
   "source": [
    "#changing string to int\n",
    "\n",
    "x = '5'\n",
    "print(x, type(x))\n",
    "\n",
    "x=int(x)\n",
    "print(x, type(x))"
   ]
  },
  {
   "cell_type": "code",
   "execution_count": 10,
   "id": "adec5a2c",
   "metadata": {},
   "outputs": [
    {
     "name": "stdout",
     "output_type": "stream",
     "text": [
      "5.0 <class 'float'>\n"
     ]
    }
   ],
   "source": [
    "# string - float\n",
    "\n",
    "x='5'\n",
    "x= float(x)\n",
    "print(x, type(x))"
   ]
  },
  {
   "cell_type": "code",
   "execution_count": 11,
   "id": "12db8ebc",
   "metadata": {},
   "outputs": [
    {
     "name": "stdout",
     "output_type": "stream",
     "text": [
      "(5-3j) <class 'complex'>\n"
     ]
    }
   ],
   "source": [
    "x = 5-3j\n",
    "print(x, type(x))"
   ]
  },
  {
   "cell_type": "code",
   "execution_count": 13,
   "id": "c5b348c2",
   "metadata": {},
   "outputs": [
    {
     "data": {
      "text/plain": [
       "(5.0, -3.0)"
      ]
     },
     "execution_count": 13,
     "metadata": {},
     "output_type": "execute_result"
    }
   ],
   "source": [
    "#x- int(xP) #comment to see the code\n",
    "x.real, x.imag"
   ]
  },
  {
   "cell_type": "code",
   "execution_count": 14,
   "id": "b366deaf",
   "metadata": {},
   "outputs": [
    {
     "name": "stdout",
     "output_type": "stream",
     "text": [
      "5 <class 'int'>\n",
      "0b101 <class 'str'>\n"
     ]
    }
   ],
   "source": [
    "x = 5\n",
    "print(x, type(x))\n",
    "\n",
    "x = bin(x)                 #it changes a number to binary \n",
    "print(x, type(x))    "
   ]
  },
  {
   "cell_type": "code",
   "execution_count": 16,
   "id": "50f886f2",
   "metadata": {
    "scrolled": false
   },
   "outputs": [
    {
     "name": "stdout",
     "output_type": "stream",
     "text": [
      "17 <class 'int'>\n",
      "0o21 <class 'str'>\n"
     ]
    }
   ],
   "source": [
    "#    OCTA DECIMAL NUMBERS\n",
    "\n",
    "x = 17\n",
    "print(x, type(x))\n",
    "\n",
    "x = oct(x)             # converts to int to octa\n",
    "print(x, type(x))\n"
   ]
  },
  {
   "cell_type": "code",
   "execution_count": 17,
   "id": "d53788bb",
   "metadata": {},
   "outputs": [
    {
     "name": "stdout",
     "output_type": "stream",
     "text": [
      "17 <class 'int'>\n",
      "0x11 <class 'str'>\n"
     ]
    }
   ],
   "source": [
    "# HEXA DECOIMAL NUMBERS \n",
    "\n",
    "x = 17\n",
    "print(x, type(x))\n",
    "\n",
    "x = hex(x)             # converts to int to Hexa decimal number\n",
    "print(x, type(x))"
   ]
  },
  {
   "cell_type": "code",
   "execution_count": 18,
   "id": "4028a466",
   "metadata": {},
   "outputs": [
    {
     "data": {
      "text/plain": [
       "'\\nx = 17\\nprint(x, type(x))\\n\\nx = hex(x)             # converts to int to Hexa decimal number\\nprint(x, type(x))\\n'"
      ]
     },
     "execution_count": 18,
     "metadata": {},
     "output_type": "execute_result"
    }
   ],
   "source": [
    "'''\n",
    "x = 17\n",
    "print(x, type(x))\n",
    "\n",
    "x = hex(x)             # converts to int to Hexa decimal number\n",
    "print(x, type(x))\n",
    "'''    #'''  ''' triple quotes is a multi line comments # is a single line comment"
   ]
  },
  {
   "cell_type": "markdown",
   "id": "cbac356c",
   "metadata": {},
   "source": [
    "### Converting bin, oct & hex values  to int"
   ]
  },
  {
   "cell_type": "code",
   "execution_count": 36,
   "id": "55736cce",
   "metadata": {},
   "outputs": [
    {
     "name": "stdout",
     "output_type": "stream",
     "text": [
      "17 17 5\n",
      "17 17 5\n"
     ]
    }
   ],
   "source": [
    "print(int('0x11', 0), int('0o21', 0), int('0b101',0))\n",
    "print(int('0x11', 0), int('0o21', 8), int('0b101',2))"
   ]
  },
  {
   "cell_type": "code",
   "execution_count": 26,
   "id": "81b5a454",
   "metadata": {},
   "outputs": [
    {
     "name": "stdout",
     "output_type": "stream",
     "text": [
      "Help on class int in module builtins:\n",
      "\n",
      "class int(object)\n",
      " |  int([x]) -> integer\n",
      " |  int(x, base=10) -> integer\n",
      " |  \n",
      " |  Convert a number or string to an integer, or return 0 if no arguments\n",
      " |  are given.  If x is a number, return x.__int__().  For floating point\n",
      " |  numbers, this truncates towards zero.\n",
      " |  \n",
      " |  If x is not a number or if base is given, then x must be a string,\n",
      " |  bytes, or bytearray instance representing an integer literal in the\n",
      " |  given base.  The literal can be preceded by '+' or '-' and be surrounded\n",
      " |  by whitespace.  The base defaults to 10.  Valid bases are 0 and 2-36.\n",
      " |  Base 0 means to interpret the base from the string as an integer literal.\n",
      " |  >>> int('0b100', base=0)\n",
      " |  4\n",
      " |  \n",
      " |  Built-in subclasses:\n",
      " |      bool\n",
      " |  \n",
      " |  Methods defined here:\n",
      " |  \n",
      " |  __abs__(self, /)\n",
      " |      abs(self)\n",
      " |  \n",
      " |  __add__(self, value, /)\n",
      " |      Return self+value.\n",
      " |  \n",
      " |  __and__(self, value, /)\n",
      " |      Return self&value.\n",
      " |  \n",
      " |  __bool__(self, /)\n",
      " |      True if self else False\n",
      " |  \n",
      " |  __ceil__(...)\n",
      " |      Ceiling of an Integral returns itself.\n",
      " |  \n",
      " |  __divmod__(self, value, /)\n",
      " |      Return divmod(self, value).\n",
      " |  \n",
      " |  __eq__(self, value, /)\n",
      " |      Return self==value.\n",
      " |  \n",
      " |  __float__(self, /)\n",
      " |      float(self)\n",
      " |  \n",
      " |  __floor__(...)\n",
      " |      Flooring an Integral returns itself.\n",
      " |  \n",
      " |  __floordiv__(self, value, /)\n",
      " |      Return self//value.\n",
      " |  \n",
      " |  __format__(self, format_spec, /)\n",
      " |      Default object formatter.\n",
      " |  \n",
      " |  __ge__(self, value, /)\n",
      " |      Return self>=value.\n",
      " |  \n",
      " |  __getattribute__(self, name, /)\n",
      " |      Return getattr(self, name).\n",
      " |  \n",
      " |  __getnewargs__(self, /)\n",
      " |  \n",
      " |  __gt__(self, value, /)\n",
      " |      Return self>value.\n",
      " |  \n",
      " |  __hash__(self, /)\n",
      " |      Return hash(self).\n",
      " |  \n",
      " |  __index__(self, /)\n",
      " |      Return self converted to an integer, if self is suitable for use as an index into a list.\n",
      " |  \n",
      " |  __int__(self, /)\n",
      " |      int(self)\n",
      " |  \n",
      " |  __invert__(self, /)\n",
      " |      ~self\n",
      " |  \n",
      " |  __le__(self, value, /)\n",
      " |      Return self<=value.\n",
      " |  \n",
      " |  __lshift__(self, value, /)\n",
      " |      Return self<<value.\n",
      " |  \n",
      " |  __lt__(self, value, /)\n",
      " |      Return self<value.\n",
      " |  \n",
      " |  __mod__(self, value, /)\n",
      " |      Return self%value.\n",
      " |  \n",
      " |  __mul__(self, value, /)\n",
      " |      Return self*value.\n",
      " |  \n",
      " |  __ne__(self, value, /)\n",
      " |      Return self!=value.\n",
      " |  \n",
      " |  __neg__(self, /)\n",
      " |      -self\n",
      " |  \n",
      " |  __or__(self, value, /)\n",
      " |      Return self|value.\n",
      " |  \n",
      " |  __pos__(self, /)\n",
      " |      +self\n",
      " |  \n",
      " |  __pow__(self, value, mod=None, /)\n",
      " |      Return pow(self, value, mod).\n",
      " |  \n",
      " |  __radd__(self, value, /)\n",
      " |      Return value+self.\n",
      " |  \n",
      " |  __rand__(self, value, /)\n",
      " |      Return value&self.\n",
      " |  \n",
      " |  __rdivmod__(self, value, /)\n",
      " |      Return divmod(value, self).\n",
      " |  \n",
      " |  __repr__(self, /)\n",
      " |      Return repr(self).\n",
      " |  \n",
      " |  __rfloordiv__(self, value, /)\n",
      " |      Return value//self.\n",
      " |  \n",
      " |  __rlshift__(self, value, /)\n",
      " |      Return value<<self.\n",
      " |  \n",
      " |  __rmod__(self, value, /)\n",
      " |      Return value%self.\n",
      " |  \n",
      " |  __rmul__(self, value, /)\n",
      " |      Return value*self.\n",
      " |  \n",
      " |  __ror__(self, value, /)\n",
      " |      Return value|self.\n",
      " |  \n",
      " |  __round__(...)\n",
      " |      Rounding an Integral returns itself.\n",
      " |      \n",
      " |      Rounding with an ndigits argument also returns an integer.\n",
      " |  \n",
      " |  __rpow__(self, value, mod=None, /)\n",
      " |      Return pow(value, self, mod).\n",
      " |  \n",
      " |  __rrshift__(self, value, /)\n",
      " |      Return value>>self.\n",
      " |  \n",
      " |  __rshift__(self, value, /)\n",
      " |      Return self>>value.\n",
      " |  \n",
      " |  __rsub__(self, value, /)\n",
      " |      Return value-self.\n",
      " |  \n",
      " |  __rtruediv__(self, value, /)\n",
      " |      Return value/self.\n",
      " |  \n",
      " |  __rxor__(self, value, /)\n",
      " |      Return value^self.\n",
      " |  \n",
      " |  __sizeof__(self, /)\n",
      " |      Returns size in memory, in bytes.\n",
      " |  \n",
      " |  __sub__(self, value, /)\n",
      " |      Return self-value.\n",
      " |  \n",
      " |  __truediv__(self, value, /)\n",
      " |      Return self/value.\n",
      " |  \n",
      " |  __trunc__(...)\n",
      " |      Truncating an Integral returns itself.\n",
      " |  \n",
      " |  __xor__(self, value, /)\n",
      " |      Return self^value.\n",
      " |  \n",
      " |  as_integer_ratio(self, /)\n",
      " |      Return integer ratio.\n",
      " |      \n",
      " |      Return a pair of integers, whose ratio is exactly equal to the original int\n",
      " |      and with a positive denominator.\n",
      " |      \n",
      " |      >>> (10).as_integer_ratio()\n",
      " |      (10, 1)\n",
      " |      >>> (-10).as_integer_ratio()\n",
      " |      (-10, 1)\n",
      " |      >>> (0).as_integer_ratio()\n",
      " |      (0, 1)\n",
      " |  \n",
      " |  bit_count(self, /)\n",
      " |      Number of ones in the binary representation of the absolute value of self.\n",
      " |      \n",
      " |      Also known as the population count.\n",
      " |      \n",
      " |      >>> bin(13)\n",
      " |      '0b1101'\n",
      " |      >>> (13).bit_count()\n",
      " |      3\n",
      " |  \n",
      " |  bit_length(self, /)\n",
      " |      Number of bits necessary to represent self in binary.\n",
      " |      \n",
      " |      >>> bin(37)\n",
      " |      '0b100101'\n",
      " |      >>> (37).bit_length()\n",
      " |      6\n",
      " |  \n",
      " |  conjugate(...)\n",
      " |      Returns self, the complex conjugate of any int.\n",
      " |  \n",
      " |  to_bytes(self, /, length=1, byteorder='big', *, signed=False)\n",
      " |      Return an array of bytes representing an integer.\n",
      " |      \n",
      " |      length\n",
      " |        Length of bytes object to use.  An OverflowError is raised if the\n",
      " |        integer is not representable with the given number of bytes.  Default\n",
      " |        is length 1.\n",
      " |      byteorder\n",
      " |        The byte order used to represent the integer.  If byteorder is 'big',\n",
      " |        the most significant byte is at the beginning of the byte array.  If\n",
      " |        byteorder is 'little', the most significant byte is at the end of the\n",
      " |        byte array.  To request the native byte order of the host system, use\n",
      " |        `sys.byteorder' as the byte order value.  Default is to use 'big'.\n",
      " |      signed\n",
      " |        Determines whether two's complement is used to represent the integer.\n",
      " |        If signed is False and a negative integer is given, an OverflowError\n",
      " |        is raised.\n",
      " |  \n",
      " |  ----------------------------------------------------------------------\n",
      " |  Class methods defined here:\n",
      " |  \n",
      " |  from_bytes(bytes, byteorder='big', *, signed=False) from builtins.type\n",
      " |      Return the integer represented by the given array of bytes.\n",
      " |      \n",
      " |      bytes\n",
      " |        Holds the array of bytes to convert.  The argument must either\n",
      " |        support the buffer protocol or be an iterable object producing bytes.\n",
      " |        Bytes and bytearray are examples of built-in objects that support the\n",
      " |        buffer protocol.\n",
      " |      byteorder\n",
      " |        The byte order used to represent the integer.  If byteorder is 'big',\n",
      " |        the most significant byte is at the beginning of the byte array.  If\n",
      " |        byteorder is 'little', the most significant byte is at the end of the\n",
      " |        byte array.  To request the native byte order of the host system, use\n",
      " |        `sys.byteorder' as the byte order value.  Default is to use 'big'.\n",
      " |      signed\n",
      " |        Indicates whether two's complement is used to represent the integer.\n",
      " |  \n",
      " |  ----------------------------------------------------------------------\n",
      " |  Static methods defined here:\n",
      " |  \n",
      " |  __new__(*args, **kwargs) from builtins.type\n",
      " |      Create and return a new object.  See help(type) for accurate signature.\n",
      " |  \n",
      " |  ----------------------------------------------------------------------\n",
      " |  Data descriptors defined here:\n",
      " |  \n",
      " |  denominator\n",
      " |      the denominator of a rational number in lowest terms\n",
      " |  \n",
      " |  imag\n",
      " |      the imaginary part of a complex number\n",
      " |  \n",
      " |  numerator\n",
      " |      the numerator of a rational number in lowest terms\n",
      " |  \n",
      " |  real\n",
      " |      the real part of a complex number\n",
      "\n"
     ]
    }
   ],
   "source": [
    "#to kmow the documentation to a functionwe can use help()\n",
    "help(int)"
   ]
  },
  {
   "cell_type": "code",
   "execution_count": 40,
   "id": "f9940e5a",
   "metadata": {},
   "outputs": [],
   "source": [
    "### int() with defined bases\n",
    "\n",
    "#int() base must be between >=2 and <=36\n",
    "#int('0011', 3),int('0011', 17), int('0011', 32),  int('0011',37) # uncomment"
   ]
  },
  {
   "cell_type": "code",
   "execution_count": 47,
   "id": "ab84ddf8",
   "metadata": {},
   "outputs": [
    {
     "name": "stdout",
     "output_type": "stream",
     "text": [
      "ass\n",
      "assroom rules\n",
      "room r\n"
     ]
    }
   ],
   "source": [
    "# DATA TYPES IN PYTHON\n",
    "# Numeric --> int, float, complex.\n",
    "            # int->      2 to 30\n",
    "            # float->    \n",
    "        \n",
    "#sequntial--> order-> 1. strings('',\"\", \"' '\",), 2.list, 3. tuples\n",
    "    # in seq a nbr strats from index 1.\n",
    "    \n",
    "  # slicing:- syntax--> x[start_index,end_index,step] \n",
    "#example\n",
    "x='classroom rules'\n",
    "print(x[2:5])\n",
    "print(x[2:])\n",
    "print(x[5:11])"
   ]
  },
  {
   "cell_type": "code",
   "execution_count": 51,
   "id": "1827a1f9",
   "metadata": {},
   "outputs": [
    {
     "name": "stdout",
     "output_type": "stream",
     "text": [
      "[<built-in function print>, 'hello']\n",
      "[1, 2.2, (5+3j), <built-in function print>]\n",
      "['hello', True]\n"
     ]
    }
   ],
   "source": [
    "#list: list is a hetro genious container.it contain int,float,string,complex,boolen(1,22,5+3j,str,true)\n",
    "x = [1,2.2,5+3j,print,'hello',True]\n",
    "print(x[3:5])\n",
    "print(x[:4])\n",
    "print(x[4:])"
   ]
  },
  {
   "cell_type": "code",
   "execution_count": 57,
   "id": "27106709",
   "metadata": {},
   "outputs": [
    {
     "name": "stdout",
     "output_type": "stream",
     "text": [
      "hello\n",
      "[]\n",
      "[True, 'hello', <built-in function print>, (5+3j), 2.2, 1]\n"
     ]
    }
   ],
   "source": [
    "print(x[-2])  #negative indexing starts from -1\n",
    "print(x[-2:-5])\n",
    "print(x[::-1])"
   ]
  },
  {
   "cell_type": "code",
   "execution_count": 2,
   "id": "801a7601",
   "metadata": {},
   "outputs": [
    {
     "data": {
      "text/plain": [
       "'Numeral systems conversion table\\nDecimal\\nBase-10\\n\\nBinary\\nBase-2\\n\\nOctal\\nBase-8\\n\\nHexadecimal\\nBase-16\\n\\n0\\t0\\t0\\t0\\n1\\t1\\t1\\t1\\n2\\t10\\t2\\t2\\n3\\t11\\t3\\t3\\n4\\t100\\t4\\t4\\n5\\t101\\t5\\t5\\n6\\t110\\t6\\t6\\n7\\t111\\t7\\t7\\n8\\t1000\\t10\\t8\\n9\\t1001\\t11\\t9\\n10\\t1010\\t12\\tA\\n11\\t1011\\t13\\tB\\n12\\t1100\\t14\\tC\\n13\\t1101\\t15\\tD\\n14\\t1110\\t16\\tE\\n15\\t1111\\t17\\tF\\n16\\t10000\\t20\\t10\\n17\\t10001\\t21\\t11\\n18\\t10010\\t22\\t12\\n19\\t10011\\t23\\t13\\n20\\t10100\\t24\\t14\\n21\\t10101\\t25\\t15\\n22\\t10110\\t26\\t16\\n23\\t10111\\t27\\t17\\n24\\t11000\\t30\\t18\\n25\\t11001\\t31\\t19\\n26\\t11010\\t32\\t1A\\n27\\t11011\\t33\\t1B\\n28\\t11100\\t34\\t1C\\n29\\t11101\\t35\\t1D\\n30\\t11110\\t36\\t1E\\n31\\t11111\\t37\\t1F\\n32\\t100000\\t40\\t20 '"
      ]
     },
     "execution_count": 2,
     "metadata": {},
     "output_type": "execute_result"
    }
   ],
   "source": [
    "'''Numeral systems conversion table\n",
    "Decimal\n",
    "Base-10\n",
    "\n",
    "Binary\n",
    "Base-2\n",
    "\n",
    "Octal\n",
    "Base-8\n",
    "\n",
    "Hexadecimal\n",
    "Base-16\n",
    "\n",
    "0\t0\t0\t0\n",
    "1\t1\t1\t1\n",
    "2\t10\t2\t2\n",
    "3\t11\t3\t3\n",
    "4\t100\t4\t4\n",
    "5\t101\t5\t5\n",
    "6\t110\t6\t6\n",
    "7\t111\t7\t7\n",
    "8\t1000\t10\t8\n",
    "9\t1001\t11\t9\n",
    "10\t1010\t12\tA\n",
    "11\t1011\t13\tB\n",
    "12\t1100\t14\tC\n",
    "13\t1101\t15\tD\n",
    "14\t1110\t16\tE\n",
    "15\t1111\t17\tF\n",
    "16\t10000\t20\t10\n",
    "17\t10001\t21\t11\n",
    "18\t10010\t22\t12\n",
    "19\t10011\t23\t13\n",
    "20\t10100\t24\t14\n",
    "21\t10101\t25\t15\n",
    "22\t10110\t26\t16\n",
    "23\t10111\t27\t17\n",
    "24\t11000\t30\t18\n",
    "25\t11001\t31\t19\n",
    "26\t11010\t32\t1A\n",
    "27\t11011\t33\t1B\n",
    "28\t11100\t34\t1C\n",
    "29\t11101\t35\t1D\n",
    "30\t11110\t36\t1E\n",
    "31\t11111\t37\t1F\n",
    "32\t100000\t40\t20 '''"
   ]
  }
 ],
 "metadata": {
  "kernelspec": {
   "display_name": "Python 3 (ipykernel)",
   "language": "python",
   "name": "python3"
  },
  "language_info": {
   "codemirror_mode": {
    "name": "ipython",
    "version": 3
   },
   "file_extension": ".py",
   "mimetype": "text/x-python",
   "name": "python",
   "nbconvert_exporter": "python",
   "pygments_lexer": "ipython3",
   "version": "3.11.3"
  }
 },
 "nbformat": 4,
 "nbformat_minor": 5
}
